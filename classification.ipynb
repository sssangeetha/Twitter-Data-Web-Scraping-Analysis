{
 "cells": [
  {
   "cell_type": "code",
   "execution_count": 1,
   "metadata": {},
   "outputs": [],
   "source": [
    "import pandas as pd\n",
    "import numpy as np \n",
    "from sklearn.feature_extraction.text import CountVectorizer\n",
    "from sklearn.feature_extraction.text import TfidfVectorizer\n",
    "from sklearn.metrics import confusion_matrix, precision_score, recall_score\n",
    "from sklearn.model_selection import train_test_split\n",
    "from sklearn.linear_model import LogisticRegression\n",
    "from sklearn.ensemble import RandomForestClassifier\n",
    "from sklearn.svm import (LinearSVC, SVC)\n",
    "from sklearn.neighbors import KNeighborsClassifier\n",
    "from sklearn.ensemble import RandomForestClassifier\n",
    "from sklearn.naive_bayes import MultinomialNB\n",
    "from sklearn.metrics import f1_score\n",
    "import seaborn as sns\n",
    "import matplotlib.pyplot as plt\n",
    "from sklearn.feature_selection import chi2\n",
    "from sklearn.feature_extraction.text import TfidfTransformer\n",
    "import nltk\n",
    "import re\n",
    "import string\n",
    "from nltk.stem import WordNetLemmatizer\n",
    "from nltk.tokenize import word_tokenize\n",
    "from scipy import sparse\n",
    "from sklearn.metrics.pairwise import cosine_similarity"
   ]
  },
  {
   "cell_type": "markdown",
   "metadata": {},
   "source": [
    "### PREPROCESSING"
   ]
  },
  {
   "cell_type": "code",
   "execution_count": 2,
   "metadata": {},
   "outputs": [],
   "source": [
    "train = pd.read_csv('data/train.csv')\n",
    "test = pd.read_csv('data/test.csv')"
   ]
  },
  {
   "cell_type": "code",
   "execution_count": 3,
   "metadata": {},
   "outputs": [
    {
     "data": {
      "text/plain": [
       "unrelated    175598\n",
       "agreed        74238\n",
       "disagreed      6606\n",
       "Name: label, dtype: int64"
      ]
     },
     "execution_count": 3,
     "metadata": {},
     "output_type": "execute_result"
    }
   ],
   "source": [
    "train['label'].value_counts()"
   ]
  },
  {
   "cell_type": "code",
   "execution_count": 4,
   "metadata": {},
   "outputs": [],
   "source": [
    "def process(title):\n",
    "    # Define punctuation marks to remove\n",
    "    punctuations = string.punctuation.replace(\"#\", \"\").replace(\"@\", \"\")\n",
    "    # Convert to lowercase\n",
    "    title = title.lower()\n",
    "    # Remove punctuation marks\n",
    "    title = \"\".join([c for c in title if c not in punctuations])\n",
    "    # Replace dashes with spaces\n",
    "    title = title.replace(\"-\", \" \")\n",
    "    # Remove extra spaces\n",
    "    title = \" \".join(title.split())\n",
    "    # Tokenize into words\n",
    "    words = word_tokenize(title)\n",
    "    # Lemmatize words\n",
    "    lemmatizer = WordNetLemmatizer()\n",
    "    words = [lemmatizer.lemmatize(w) for w in words]\n",
    "    # Join words back into a string\n",
    "    title = \" \".join(words)\n",
    "    return title"
   ]
  },
  {
   "cell_type": "code",
   "execution_count": 5,
   "metadata": {},
   "outputs": [
    {
     "name": "stdout",
     "output_type": "stream",
     "text": [
      "\"If you do not come to Shenzhen, sooner or later your son will also come.\" In less than 10 years, Shenzhen per capita GDP will exceed Hong Kong.\n",
      "if you do not come to shenzhen sooner or later your son will also come in le than 10 year shenzhen per caput gdp will exceed hong kong\n"
     ]
    }
   ],
   "source": [
    "print(train['title1_en'][1])\n",
    "print(process(train['title1_en'][1]))"
   ]
  },
  {
   "cell_type": "code",
   "execution_count": 6,
   "metadata": {},
   "outputs": [],
   "source": [
    "train['title1'] = train['title1_en'].apply(process)\n",
    "train['title2'] = train['title2_en'].apply(process)\n",
    "test['title1'] = test['title1_en'].apply(process)\n",
    "test['title2'] = test['title2_en'].apply(process)"
   ]
  },
  {
   "cell_type": "code",
   "execution_count": 7,
   "metadata": {},
   "outputs": [
    {
     "name": "stdout",
     "output_type": "stream",
     "text": [
      "                                                   title1  \\\n",
      "0       there are two new oldage insurance benefit for...   \n",
      "1       if you do not come to shenzhen sooner or later...   \n",
      "2       if you do not come to shenzhen sooner or later...   \n",
      "3       if you do not come to shenzhen sooner or later...   \n",
      "4       if you do not come to shenzhen sooner or later...   \n",
      "...                                                   ...   \n",
      "256437  egypt s presidential election failed to win mi...   \n",
      "256438  egypt s presidential election failed to win mi...   \n",
      "256439  egypt s presidential election failed to win mi...   \n",
      "256440  egypt s presidential election failed to win mi...   \n",
      "256441  will the united state wage war on iraq without...   \n",
      "\n",
      "                                                   title2      label  \n",
      "0       police disprove bird nest congress each person...  unrelated  \n",
      "1       shenzhens gdp outstrips hong kong shenzhen sta...  unrelated  \n",
      "2       the gdp overtopped hong kong shenzhen clarifie...  unrelated  \n",
      "3       shenzhens gdp overtakes hong kong bureau of st...  unrelated  \n",
      "4       shenzhens gdp outpaces hong kong defending rum...  unrelated  \n",
      "...                                                   ...        ...  \n",
      "256437  salah is retiring football association officia...  unrelated  \n",
      "256438  liverpool bid for little germany the echo disc...  unrelated  \n",
      "256439  west medium exposing tallahlach ha been recomm...  unrelated  \n",
      "256440  rumor ha it that egypt is very united and ther...  unrelated  \n",
      "256441  saddam daughter refutes rumor no 2 of saddam r...  unrelated  \n",
      "\n",
      "[256442 rows x 3 columns]\n",
      "                                                  title1  \\\n",
      "0      the great coat brother zhu zhu wen in the mand...   \n",
      "1      nasa reveals fact about ufo wreckage found on ...   \n",
      "2              the hollow tomato are loaded with hormone   \n",
      "3      ange pavilion geoshui how accurate is matrimon...   \n",
      "4      a 50yearold busbus blow up an 8yearold child r...   \n",
      "...                                                  ...   \n",
      "64105  the lead content of domestic faucet exceeds th...   \n",
      "64106  in 2018 the household registration system ha c...   \n",
      "64107  onion can not be eaten with this serious also ...   \n",
      "64108  grassroot teacher salary the last increase bef...   \n",
      "64109  li weijia weeping cry drug sick see how he res...   \n",
      "\n",
      "                                                  title2  \n",
      "0      lin xinsheng after the birth of hard milking h...  \n",
      "1      the ufo found in yuancun jiaocheng county shan...  \n",
      "2      li chenfan bingbing home photo netizen this is...  \n",
      "3      master one the eightcharacter presumption of m...  \n",
      "4      i joe johnson disgruntled timing and order wa ...  \n",
      "...                                                  ...  \n",
      "64105  the multibrand faucet is overtaxed who is enda...  \n",
      "64106  in 2018 the household registration system will...  \n",
      "64107  onion can not eat with this serious also can c...  \n",
      "64108  teacher wage reform there will be these three ...  \n",
      "64109  li weijia on the hot air netizens li weijia an...  \n",
      "\n",
      "[64110 rows x 2 columns]\n"
     ]
    }
   ],
   "source": [
    "print(train[['title1', 'title2', 'label']])\n",
    "print(test[['title1','title2']])"
   ]
  },
  {
   "cell_type": "code",
   "execution_count": 8,
   "metadata": {},
   "outputs": [],
   "source": [
    "train.to_csv('TRAIN.csv', index = False)\n",
    "test.to_csv('TEST.csv', index = False)"
   ]
  },
  {
   "cell_type": "code",
   "execution_count": 9,
   "metadata": {},
   "outputs": [],
   "source": [
    "TRAIN = pd.read_csv('TRAIN.csv')\n",
    "TEST = pd.read_csv('TEST.csv')\n",
    "\n",
    "# remove na titles\n",
    "TRAIN = TRAIN[TRAIN['title1'].notna()]\n",
    "TRAIN = TRAIN[TRAIN['title2'].notna()]\n",
    "TRAIN_LABEL = TRAIN['label']\n",
    "TEST['title1'] = TEST['title1'].fillna(\"0\")\n",
    "TEST['title2'] = TEST['title2'].fillna(\"0\")"
   ]
  },
  {
   "cell_type": "markdown",
   "metadata": {},
   "source": [
    "### MODELING"
   ]
  },
  {
   "cell_type": "code",
   "execution_count": 10,
   "metadata": {},
   "outputs": [],
   "source": [
    "# 80% train and 20% Validation data from TRAIN dataset\n",
    "train, validation, train_label, validation_label = train_test_split(TRAIN[['title1', 'title2']], TRAIN['label'], \n",
    "                                                            test_size = 0.2, random_state = 52, \n",
    "                                                            stratify = TRAIN['label'])"
   ]
  },
  {
   "cell_type": "code",
   "execution_count": 11,
   "metadata": {},
   "outputs": [
    {
     "data": {
      "text/plain": [
       "unrelated    140462\n",
       "agreed        59381\n",
       "disagreed      5284\n",
       "Name: label, dtype: int64"
      ]
     },
     "execution_count": 11,
     "metadata": {},
     "output_type": "execute_result"
    }
   ],
   "source": [
    "train_label.value_counts()"
   ]
  },
  {
   "cell_type": "code",
   "execution_count": 12,
   "metadata": {},
   "outputs": [
    {
     "name": "stderr",
     "output_type": "stream",
     "text": [
      "C:\\Users\\Pavani Rangineni\\anaconda3\\lib\\site-packages\\sklearn\\utils\\deprecation.py:87: FutureWarning: Function get_feature_names is deprecated; get_feature_names is deprecated in 1.0 and will be removed in 1.2. Please use get_feature_names_out instead.\n",
      "  warnings.warn(msg, category=FutureWarning)\n"
     ]
    }
   ],
   "source": [
    "data = TRAIN['title1'].tolist() + TRAIN['title2'].tolist() + TEST['title1'].tolist() + TEST['title2'].tolist()\n",
    "count_vect = CountVectorizer()\n",
    "count = count_vect.fit_transform(data)\n",
    "vocabulary = count_vect.get_feature_names()\n",
    "count_vect = CountVectorizer(vocabulary=vocabulary)"
   ]
  },
  {
   "cell_type": "code",
   "execution_count": 13,
   "metadata": {},
   "outputs": [],
   "source": [
    "train_tl1 = count_vect.fit_transform(train['title1'])\n",
    "train_tl2 = count_vect.fit_transform(train['title2'])\n",
    "validation_tl1 = count_vect.fit_transform(validation['title1'])\n",
    "validation_tl2 = count_vect.fit_transform(validation['title2'])"
   ]
  },
  {
   "cell_type": "code",
   "execution_count": 14,
   "metadata": {},
   "outputs": [],
   "source": [
    "tf = TfidfTransformer()\n",
    "train_tl1_tf = tf.fit_transform(train_tl1)\n",
    "train_tl2_tf = tf.fit_transform(train_tl2)\n",
    "validation_tl1_tf = tf.fit_transform(validation_tl1)\n",
    "validation_tl2_tf = tf.fit_transform(validation_tl2)"
   ]
  },
  {
   "cell_type": "code",
   "execution_count": 15,
   "metadata": {},
   "outputs": [],
   "source": [
    "TF_TRAIN = sparse.hstack([train_tl1_tf, train_tl2_tf])\n",
    "TF_VALIDATION = sparse.hstack([validation_tl1_tf, validation_tl2_tf])"
   ]
  },
  {
   "cell_type": "code",
   "execution_count": 16,
   "metadata": {},
   "outputs": [
    {
     "name": "stdout",
     "output_type": "stream",
     "text": [
      "Multinomial Naive Bayes Accuracy: 0.7652002652002652 | F1 Score: 0.7445996048891391\n"
     ]
    }
   ],
   "source": [
    "clf_NB = MultinomialNB()\n",
    "clf_NB.fit(TF_TRAIN, train_label)\n",
    "validation_pred = clf_NB.predict(TF_VALIDATION)\n",
    "print('Multinomial Naive Bayes Accuracy:', clf_NB.score(TF_VALIDATION, validation_label), '| F1 Score:', f1_score(validation_label, validation_pred, average = 'weighted'))"
   ]
  },
  {
   "cell_type": "code",
   "execution_count": 17,
   "metadata": {},
   "outputs": [
    {
     "name": "stdout",
     "output_type": "stream",
     "text": [
      "Precision: 0.7584559192896357\n",
      "Recall: 0.7652002652002652\n"
     ]
    },
    {
     "data": {
      "image/png": "[encoded data removed]",
      "text/plain": [
       "<Figure size 640x480 with 2 Axes>"
      ]
     },
     "metadata": {},
     "output_type": "display_data"
    }
   ],
   "source": [
    "# Metrics for multi-dimensional Navie Bayes\n",
    "precision = precision_score(validation_label, validation_pred, average = 'weighted')\n",
    "recall = recall_score(validation_label, validation_pred, average = 'weighted')\n",
    "conf_matrix = confusion_matrix(validation_label, validation_pred)\n",
    "print('Metrics for Multi-Dimensional Navie Bayes: ')\n",
    "print('Precision:', precision)\n",
    "print('Recall:', recall)\n",
    "sns.set(font_scale= 1)\n",
    "sns.heatmap(conf_matrix, annot=True, fmt='d', annot_kws={\"size\": 13}, cmap='Blues', \n",
    "            xticklabels = ['agreed', 'disagreed', 'unrelated'],\n",
    "            yticklabels = ['agreed', 'disagreed', 'unrelated'])\n",
    "plt.title('Confusion Matrix')\n",
    "plt.xlabel('Predicted Labels')\n",
    "plt.ylabel('Actual Labels')\n",
    "plt.show()"
   ]
  },
  {
   "cell_type": "code",
   "execution_count": 18,
   "metadata": {},
   "outputs": [
    {
     "name": "stdout",
     "output_type": "stream",
     "text": [
      "SVC Accuracy: 0.8029133029133029 | F1 Score: 0.8057666719625504\n"
     ]
    }
   ],
   "source": [
    "clf_SVC = LinearSVC(class_weight = 'balanced', random_state = 52, max_iter = 1000)\n",
    "clf_SVC.fit(TF_TRAIN, train_label)\n",
    "validation_pred = clf_SVC.predict(TF_VALIDATION)\n",
    "print('SVC Accuracy:', clf_SVC.score(TF_VALIDATION, validation_label), '| F1 Score:', f1_score(validation_label, validation_pred, average = 'weighted'))"
   ]
  },
  {
   "cell_type": "code",
   "execution_count": 19,
   "metadata": {},
   "outputs": [
    {
     "name": "stdout",
     "output_type": "stream",
     "text": [
      "Precision: 0.8106947453247599\n",
      "Recall: 0.8029133029133029\n"
     ]
    },
    {
     "data": {
      "image/png": "[encoded data removed]",
      "text/plain": [
       "<Figure size 640x480 with 2 Axes>"
      ]
     },
     "metadata": {},
     "output_type": "display_data"
    }
   ],
   "source": [
    "# Metrics for Support Vector classifier\n",
    "precision = precision_score(validation_label, validation_pred, average = 'weighted')\n",
    "recall = recall_score(validation_label, validation_pred, average = 'weighted')\n",
    "conf_matrix = confusion_matrix(validation_label, validation_pred)\n",
    "print('Metrics for Support Vector Classifier: ')\n",
    "print('Precision:', precision)\n",
    "print('Recall:', recall)\n",
    "sns.heatmap(conf_matrix, annot=True, fmt='d', annot_kws={\"size\": 13}, cmap='Blues', \n",
    "            xticklabels = ['agreed', 'disagreed', 'unrelated'],\n",
    "            yticklabels = ['agreed', 'disagreed', 'unrelated'])\n",
    "plt.title('Confusion Matrix')\n",
    "plt.xlabel('Predicted Labels')\n",
    "plt.ylabel('Actual Labels')\n",
    "plt.show()"
   ]
  },
  {
   "cell_type": "code",
   "execution_count": 20,
   "metadata": {
    "scrolled": true
   },
   "outputs": [
    {
     "name": "stdout",
     "output_type": "stream",
     "text": [
      "Logistic Regression Accuracy: 0.745095745095745 | F1 Score: 0.7573582512243484\n"
     ]
    }
   ],
   "source": [
    "clf_LGSTR = LogisticRegression(class_weight = 'balanced', random_state = 52, max_iter = 500)\n",
    "clf_LGSTR.fit(TF_TRAIN, train_label)\n",
    "validation_pred = clf_LGSTR.predict(TF_VALIDATION)\n",
    "print('Logistic Regression Accuracy:', clf_LGSTR.score(TF_VALIDATION, validation_label), '| F1 Score:', f1_score(validation_label, validation_pred, average = 'weighted'))"
   ]
  },
  {
   "cell_type": "code",
   "execution_count": 21,
   "metadata": {},
   "outputs": [
    {
     "name": "stdout",
     "output_type": "stream",
     "text": [
      "Precision: 0.7993667365763544\n",
      "Recall: 0.745095745095745\n"
     ]
    },
    {
     "data": {
      "image/png": "[encoded data removed]",
      "text/plain": [
       "<Figure size 640x480 with 2 Axes>"
      ]
     },
     "metadata": {},
     "output_type": "display_data"
    }
   ],
   "source": [
    "# Metrics for Logistic Regression\n",
    "precision = precision_score(validation_label, validation_pred, average = 'weighted')\n",
    "recall = recall_score(validation_label, validation_pred, average = 'weighted')\n",
    "conf_matrix = confusion_matrix(validation_label, validation_pred)\n",
    "print('Metrics for Logistic Regression: ')\n",
    "print('Precision:', precision)\n",
    "print('Recall:', recall)\n",
    "sns.heatmap(conf_matrix, annot=True, fmt='d', annot_kws={\"size\": 13}, cmap='Blues', \n",
    "            xticklabels = ['agreed', 'disagreed', 'unrelated'],\n",
    "            yticklabels = ['agreed', 'disagreed', 'unrelated'])\n",
    "plt.title('Confusion Matrix')\n",
    "plt.xlabel('Predicted Labels')\n",
    "plt.ylabel('Actual Labels')\n",
    "plt.show()"
   ]
  },
  {
   "cell_type": "code",
   "execution_count": 22,
   "metadata": {},
   "outputs": [
    {
     "name": "stdout",
     "output_type": "stream",
     "text": [
      "Random Forest Accuracy: 0.8397098397098397 | F1 Score: 0.8271402675784431\n"
     ]
    }
   ],
   "source": [
    "clf_RF = RandomForestClassifier(random_state = 52)\n",
    "clf_RF.fit(TF_TRAIN, train_label)\n",
    "validation_pred = clf_RF.predict(TF_VALIDATION)\n",
    "print('Random Forest Accuracy:', clf_RF.score(TF_VALIDATION, validation_label), '| F1 Score:', f1_score(validation_label, validation_pred, average = 'weighted'))"
   ]
  },
  {
   "cell_type": "code",
   "execution_count": 23,
   "metadata": {},
   "outputs": [
    {
     "name": "stdout",
     "output_type": "stream",
     "text": [
      "Precision: 0.8431948409638297\n",
      "Recall: 0.8397098397098397\n"
     ]
    },
    {
     "data": {
      "image/png": "[encoded data removed]",
      "text/plain": [
       "<Figure size 640x480 with 2 Axes>"
      ]
     },
     "metadata": {},
     "output_type": "display_data"
    }
   ],
   "source": [
    "# Metrics for Random Forest\n",
    "precision = precision_score(validation_label, validation_pred, average = 'weighted')\n",
    "recall = recall_score(validation_label, validation_pred, average = 'weighted')\n",
    "conf_matrix = confusion_matrix(validation_label, validation_pred)\n",
    "print('Metrics for Random Forest: ')\n",
    "print('Precision:', precision)\n",
    "print('Recall:', recall)\n",
    "sns.heatmap(conf_matrix, annot=True, fmt='d', annot_kws={\"size\": 13}, cmap='Blues', \n",
    "            xticklabels = ['agreed', 'disagreed', 'unrelated'],\n",
    "            yticklabels = ['agreed', 'disagreed', 'unrelated'])\n",
    "plt.title('Confusion Matrix')\n",
    "plt.xlabel('Predicted Labels')\n",
    "plt.ylabel('Actual Labels')\n",
    "plt.show()"
   ]
  },
  {
   "cell_type": "code",
   "execution_count": 24,
   "metadata": {},
   "outputs": [
    {
     "data": {
      "text/plain": [
       "unrelated    35116\n",
       "agreed       14845\n",
       "disagreed     1321\n",
       "Name: label, dtype: int64"
      ]
     },
     "execution_count": 24,
     "metadata": {},
     "output_type": "execute_result"
    }
   ],
   "source": [
    "validation_label.value_counts()"
   ]
  },
  {
   "cell_type": "code",
   "execution_count": 25,
   "metadata": {},
   "outputs": [
    {
     "name": "stdout",
     "output_type": "stream",
     "text": [
      "['unrelated' 'unrelated' 'unrelated' ... 'agreed' 'unrelated' 'unrelated']\n"
     ]
    }
   ],
   "source": [
    "# Submission File is done by using Random Forest has it has highest accuracy\n",
    "TEST_tl1 = count_vect.fit_transform(TEST['title1'])\n",
    "TEST_tl2 = count_vect.fit_transform(TEST['title2'])\n",
    "TEST_tl1_tf = tf.fit_transform(TEST_tl1)\n",
    "TEST_tl2_tf = tf.fit_transform(TEST_tl2)\n",
    "TF_TEST = sparse.hstack([TEST_tl1_tf, TEST_tl2_tf])\n",
    "TEST_PRED = clf_RF.predict(TF_TEST)\n",
    "TEST['label'] = TEST_PRED\n",
    "print(TEST_PRED)"
   ]
  },
  {
   "cell_type": "code",
   "execution_count": 26,
   "metadata": {},
   "outputs": [
    {
     "data": {
      "text/html": [
       "<div>\n",
       "<style scoped>\n",
       "    .dataframe tbody tr th:only-of-type {\n",
       "        vertical-align: middle;\n",
       "    }\n",
       "\n",
       "    .dataframe tbody tr th {\n",
       "        vertical-align: top;\n",
       "    }\n",
       "\n",
       "    .dataframe thead th {\n",
       "        text-align: right;\n",
       "    }\n",
       "</style>\n",
       "<table border=\"1\" class=\"dataframe\">\n",
       "  <thead>\n",
       "    <tr style=\"text-align: right;\">\n",
       "      <th></th>\n",
       "      <th>id</th>\n",
       "      <th>tid1</th>\n",
       "      <th>tid2</th>\n",
       "      <th>title1_en</th>\n",
       "      <th>title2_en</th>\n",
       "      <th>title1</th>\n",
       "      <th>title2</th>\n",
       "      <th>label</th>\n",
       "    </tr>\n",
       "  </thead>\n",
       "  <tbody>\n",
       "    <tr>\n",
       "      <th>0</th>\n",
       "      <td>256442</td>\n",
       "      <td>100672</td>\n",
       "      <td>100673</td>\n",
       "      <td>The great coat brother Zhu Zhu Wen, in the man...</td>\n",
       "      <td>Lin xinsheng after the birth of \"hard milking,...</td>\n",
       "      <td>the great coat brother zhu zhu wen in the mand...</td>\n",
       "      <td>lin xinsheng after the birth of hard milking h...</td>\n",
       "      <td>unrelated</td>\n",
       "    </tr>\n",
       "    <tr>\n",
       "      <th>1</th>\n",
       "      <td>256443</td>\n",
       "      <td>162269</td>\n",
       "      <td>162270</td>\n",
       "      <td>NASA reveals facts about UFO wreckage found on...</td>\n",
       "      <td>The UFO found in Yuancun, Jiaocheng County, Sh...</td>\n",
       "      <td>nasa reveals fact about ufo wreckage found on ...</td>\n",
       "      <td>the ufo found in yuancun jiaocheng county shan...</td>\n",
       "      <td>unrelated</td>\n",
       "    </tr>\n",
       "    <tr>\n",
       "      <th>2</th>\n",
       "      <td>256444</td>\n",
       "      <td>157826</td>\n",
       "      <td>157854</td>\n",
       "      <td>The hollow tomatoes are loaded with hormones.</td>\n",
       "      <td>Li chenfan bingbing home photos, netizen: this...</td>\n",
       "      <td>the hollow tomato are loaded with hormone</td>\n",
       "      <td>li chenfan bingbing home photo netizen this is...</td>\n",
       "      <td>unrelated</td>\n",
       "    </tr>\n",
       "    <tr>\n",
       "      <th>3</th>\n",
       "      <td>256445</td>\n",
       "      <td>109579</td>\n",
       "      <td>74076</td>\n",
       "      <td>Ange Pavilion Geoshui: How accurate is Matrimo...</td>\n",
       "      <td>Master one: the eight-character presumption of...</td>\n",
       "      <td>ange pavilion geoshui how accurate is matrimon...</td>\n",
       "      <td>master one the eightcharacter presumption of m...</td>\n",
       "      <td>unrelated</td>\n",
       "    </tr>\n",
       "    <tr>\n",
       "      <th>4</th>\n",
       "      <td>256446</td>\n",
       "      <td>15068</td>\n",
       "      <td>15085</td>\n",
       "      <td>A 50-year-old bus-bus blows up an 8-year-old c...</td>\n",
       "      <td>&lt; i &gt; Joe Johnson's disgruntled timing and ord...</td>\n",
       "      <td>a 50yearold busbus blow up an 8yearold child r...</td>\n",
       "      <td>i joe johnson disgruntled timing and order wa ...</td>\n",
       "      <td>unrelated</td>\n",
       "    </tr>\n",
       "    <tr>\n",
       "      <th>...</th>\n",
       "      <td>...</td>\n",
       "      <td>...</td>\n",
       "      <td>...</td>\n",
       "      <td>...</td>\n",
       "      <td>...</td>\n",
       "      <td>...</td>\n",
       "      <td>...</td>\n",
       "      <td>...</td>\n",
       "    </tr>\n",
       "    <tr>\n",
       "      <th>64105</th>\n",
       "      <td>320547</td>\n",
       "      <td>94862</td>\n",
       "      <td>94863</td>\n",
       "      <td>The lead content of domestic faucet exceeds th...</td>\n",
       "      <td>The multi-brand faucet is overtaxed, who is en...</td>\n",
       "      <td>the lead content of domestic faucet exceeds th...</td>\n",
       "      <td>the multibrand faucet is overtaxed who is enda...</td>\n",
       "      <td>unrelated</td>\n",
       "    </tr>\n",
       "    <tr>\n",
       "      <th>64106</th>\n",
       "      <td>320548</td>\n",
       "      <td>7451</td>\n",
       "      <td>7452</td>\n",
       "      <td>In 2018, the household registration system has...</td>\n",
       "      <td>In 2018, the household registration system wil...</td>\n",
       "      <td>in 2018 the household registration system ha c...</td>\n",
       "      <td>in 2018 the household registration system will...</td>\n",
       "      <td>agreed</td>\n",
       "    </tr>\n",
       "    <tr>\n",
       "      <th>64107</th>\n",
       "      <td>320549</td>\n",
       "      <td>144163</td>\n",
       "      <td>144164</td>\n",
       "      <td>Onion can not be eaten with this, serious also...</td>\n",
       "      <td>Onion can not eat with this, serious also can ...</td>\n",
       "      <td>onion can not be eaten with this serious also ...</td>\n",
       "      <td>onion can not eat with this serious also can c...</td>\n",
       "      <td>agreed</td>\n",
       "    </tr>\n",
       "    <tr>\n",
       "      <th>64108</th>\n",
       "      <td>320550</td>\n",
       "      <td>96842</td>\n",
       "      <td>96856</td>\n",
       "      <td>Grass-root teacher salaries, the last increase...</td>\n",
       "      <td>Teachers wage reform, there will be these thre...</td>\n",
       "      <td>grassroot teacher salary the last increase bef...</td>\n",
       "      <td>teacher wage reform there will be these three ...</td>\n",
       "      <td>unrelated</td>\n",
       "    </tr>\n",
       "    <tr>\n",
       "      <th>64109</th>\n",
       "      <td>320551</td>\n",
       "      <td>137151</td>\n",
       "      <td>132243</td>\n",
       "      <td>Li Weijia Weeping, Crying, Drugs? Sick? See ho...</td>\n",
       "      <td>Li Weijia on the hot air, netizens: Li Weijia ...</td>\n",
       "      <td>li weijia weeping cry drug sick see how he res...</td>\n",
       "      <td>li weijia on the hot air netizens li weijia an...</td>\n",
       "      <td>unrelated</td>\n",
       "    </tr>\n",
       "  </tbody>\n",
       "</table>\n",
       "<p>64110 rows × 8 columns</p>\n",
       "</div>"
      ],
      "text/plain": [
       "           id    tid1    tid2  \\\n",
       "0      256442  100672  100673   \n",
       "1      256443  162269  162270   \n",
       "2      256444  157826  157854   \n",
       "3      256445  109579   74076   \n",
       "4      256446   15068   15085   \n",
       "...       ...     ...     ...   \n",
       "64105  320547   94862   94863   \n",
       "64106  320548    7451    7452   \n",
       "64107  320549  144163  144164   \n",
       "64108  320550   96842   96856   \n",
       "64109  320551  137151  132243   \n",
       "\n",
       "                                               title1_en  \\\n",
       "0      The great coat brother Zhu Zhu Wen, in the man...   \n",
       "1      NASA reveals facts about UFO wreckage found on...   \n",
       "2          The hollow tomatoes are loaded with hormones.   \n",
       "3      Ange Pavilion Geoshui: How accurate is Matrimo...   \n",
       "4      A 50-year-old bus-bus blows up an 8-year-old c...   \n",
       "...                                                  ...   \n",
       "64105  The lead content of domestic faucet exceeds th...   \n",
       "64106  In 2018, the household registration system has...   \n",
       "64107  Onion can not be eaten with this, serious also...   \n",
       "64108  Grass-root teacher salaries, the last increase...   \n",
       "64109  Li Weijia Weeping, Crying, Drugs? Sick? See ho...   \n",
       "\n",
       "                                               title2_en  \\\n",
       "0      Lin xinsheng after the birth of \"hard milking,...   \n",
       "1      The UFO found in Yuancun, Jiaocheng County, Sh...   \n",
       "2      Li chenfan bingbing home photos, netizen: this...   \n",
       "3      Master one: the eight-character presumption of...   \n",
       "4      < i > Joe Johnson's disgruntled timing and ord...   \n",
       "...                                                  ...   \n",
       "64105  The multi-brand faucet is overtaxed, who is en...   \n",
       "64106  In 2018, the household registration system wil...   \n",
       "64107  Onion can not eat with this, serious also can ...   \n",
       "64108  Teachers wage reform, there will be these thre...   \n",
       "64109  Li Weijia on the hot air, netizens: Li Weijia ...   \n",
       "\n",
       "                                                  title1  \\\n",
       "0      the great coat brother zhu zhu wen in the mand...   \n",
       "1      nasa reveals fact about ufo wreckage found on ...   \n",
       "2              the hollow tomato are loaded with hormone   \n",
       "3      ange pavilion geoshui how accurate is matrimon...   \n",
       "4      a 50yearold busbus blow up an 8yearold child r...   \n",
       "...                                                  ...   \n",
       "64105  the lead content of domestic faucet exceeds th...   \n",
       "64106  in 2018 the household registration system ha c...   \n",
       "64107  onion can not be eaten with this serious also ...   \n",
       "64108  grassroot teacher salary the last increase bef...   \n",
       "64109  li weijia weeping cry drug sick see how he res...   \n",
       "\n",
       "                                                  title2      label  \n",
       "0      lin xinsheng after the birth of hard milking h...  unrelated  \n",
       "1      the ufo found in yuancun jiaocheng county shan...  unrelated  \n",
       "2      li chenfan bingbing home photo netizen this is...  unrelated  \n",
       "3      master one the eightcharacter presumption of m...  unrelated  \n",
       "4      i joe johnson disgruntled timing and order wa ...  unrelated  \n",
       "...                                                  ...        ...  \n",
       "64105  the multibrand faucet is overtaxed who is enda...  unrelated  \n",
       "64106  in 2018 the household registration system will...     agreed  \n",
       "64107  onion can not eat with this serious also can c...     agreed  \n",
       "64108  teacher wage reform there will be these three ...  unrelated  \n",
       "64109  li weijia on the hot air netizens li weijia an...  unrelated  \n",
       "\n",
       "[64110 rows x 8 columns]"
      ]
     },
     "execution_count": 26,
     "metadata": {},
     "output_type": "execute_result"
    }
   ],
   "source": [
    "TEST"
   ]
  },
  {
   "cell_type": "code",
   "execution_count": 27,
   "metadata": {},
   "outputs": [],
   "source": [
    "submission = TEST[['id', 'label']]\n",
    "submission.to_csv('submission.csv', index = False)"
   ]
  },
  {
   "cell_type": "markdown",
   "metadata": {},
   "source": [
    "### TESTING"
   ]
  },
  {
   "cell_type": "code",
   "execution_count": 37,
   "metadata": {},
   "outputs": [
    {
     "name": "stderr",
     "output_type": "stream",
     "text": [
      "C:\\Users\\Pavani Rangineni\\anaconda3\\lib\\site-packages\\sklearn\\utils\\deprecation.py:87: FutureWarning: Function get_feature_names is deprecated; get_feature_names is deprecated in 1.0 and will be removed in 1.2. Please use get_feature_names_out instead.\n",
      "  warnings.warn(msg, category=FutureWarning)\n",
      "C:\\Users\\Pavani Rangineni\\anaconda3\\lib\\site-packages\\sklearn\\utils\\deprecation.py:87: FutureWarning: Function get_feature_names is deprecated; get_feature_names is deprecated in 1.0 and will be removed in 1.2. Please use get_feature_names_out instead.\n",
      "  warnings.warn(msg, category=FutureWarning)\n",
      "C:\\Users\\Pavani Rangineni\\anaconda3\\lib\\site-packages\\sklearn\\utils\\deprecation.py:87: FutureWarning: Function get_feature_names is deprecated; get_feature_names is deprecated in 1.0 and will be removed in 1.2. Please use get_feature_names_out instead.\n",
      "  warnings.warn(msg, category=FutureWarning)\n",
      "C:\\Users\\Pavani Rangineni\\anaconda3\\lib\\site-packages\\sklearn\\utils\\deprecation.py:87: FutureWarning: Function get_feature_names is deprecated; get_feature_names is deprecated in 1.0 and will be removed in 1.2. Please use get_feature_names_out instead.\n",
      "  warnings.warn(msg, category=FutureWarning)\n",
      "C:\\Users\\Pavani Rangineni\\anaconda3\\lib\\site-packages\\sklearn\\utils\\deprecation.py:87: FutureWarning: Function get_feature_names is deprecated; get_feature_names is deprecated in 1.0 and will be removed in 1.2. Please use get_feature_names_out instead.\n",
      "  warnings.warn(msg, category=FutureWarning)\n",
      "C:\\Users\\Pavani Rangineni\\anaconda3\\lib\\site-packages\\sklearn\\utils\\deprecation.py:87: FutureWarning: Function get_feature_names is deprecated; get_feature_names is deprecated in 1.0 and will be removed in 1.2. Please use get_feature_names_out instead.\n",
      "  warnings.warn(msg, category=FutureWarning)\n"
     ]
    },
    {
     "name": "stdout",
     "output_type": "stream",
     "text": [
      "['flotsam distance looking', 'flotsam distance looking disc', 'flotsam fast', 'flotsam fast track', 'flotsam fast track quickly', 'flotsam really', 'flotsam really help', 'flotsam really help propagandize', 'flotsam threeyearold', 'flotsam threeyearold witkowski', 'flotsam threeyearold witkowski said', 'flour 90', 'flour 90 time', 'flour 90 time toxic', 'flour breakdown', 'flour breakdown product', 'flour breakdown product 90', 'flour clear', 'flow 10 time instantly', '泸州娃 trouser leg habit', 'flotsam distance looking', 'flotsam distance looking disc', 'flotsam fast', 'flotsam fast track', 'flotsam fast track quickly', 'flotsam really', 'flotsam really help', 'flotsam really help propagandize', 'flotsam threeyearold', 'flotsam threeyearold witkowski', 'flotsam threeyearold witkowski said', 'flour 90', 'flour 90 time', 'flour 90 time toxic', 'flour breakdown', 'flour breakdown product', 'flour breakdown product 90', 'flour clear', 'flow 10 time instantly', '泸州娃 trouser leg habit', 'flotsam distance looking', 'flotsam distance looking disc', 'flotsam fast', 'flotsam fast track', 'flotsam fast track quickly', 'flotsam really', 'flotsam really help', 'flotsam really help propagandize', 'flotsam threeyearold', 'flotsam threeyearold witkowski', 'flotsam threeyearold witkowski said', 'flour 90', 'flour 90 time', 'flour 90 time toxic', 'flour breakdown', 'flour breakdown product', 'flour breakdown product 90', 'flour clear', 'flow 10 time instantly', '泸州娃 trouser leg habit', 'food industry rumor resurface', 'food industry rumor', 'food industry reduce fat', 'food industry reduce', 'food inconspicuous eating', 'food industry red claw', 'food industry', 'food increase resistance cold', 'food increase resistance', 'food increase odds having', 'food increase odds', 'food increase gastric cancer', 'food increase gastric', 'food increase chance having', 'food increase chance', 'food increase breast cancer', 'food increase breast', 'food increase', 'food industry red', '蝌蚪 treatment video fever', 'food industry rumor resurface', 'food industry rumor', 'food industry reduce fat', 'food industry reduce', 'food inconspicuous eating', 'food industry red claw', 'food industry', 'food increase resistance cold', 'food increase resistance', 'food increase odds having', 'food increase odds', 'food increase gastric cancer', 'food increase gastric', 'food increase chance having', 'food increase chance', 'food increase breast cancer', 'food increase breast', 'food increase', 'food industry red', '蝌蚪 treatment video fever', 'food industry rumor resurface', 'food industry rumor', 'food industry reduce fat', 'food industry reduce', 'food inconspicuous eating', 'food industry red claw', 'food industry', 'food increase resistance cold', 'food increase resistance', 'food increase odds having', 'food increase odds', 'food increase gastric cancer', 'food increase gastric', 'food increase chance having', 'food increase chance', 'food increase breast cancer', 'food increase breast', 'food increase', 'food industry red', '蝌蚪 treatment video fever'] \n",
      "\n"
     ]
    }
   ],
   "source": [
    "# Define the TF-IDF vectorizer with stop words and n-gram range of 2-4\n",
    "tfidf = TfidfVectorizer(stop_words='english', ngram_range=(2, 4))\n",
    "\n",
    "# Extract n-grams from 'title1' column of TRAIN\n",
    "features1 = tfidf.fit_transform(TRAIN['title1'])\n",
    "labels = TRAIN_LABEL\n",
    "\n",
    "# Extract the most correlated n-grams for each label using chi-squared test\n",
    "best_grams = []\n",
    "for lb in [0, 1, 2]:\n",
    "    chi2_scores = chi2(features1, labels == lb)\n",
    "    sorted_indices = np.argsort(chi2_scores[0])\n",
    "    top_features = np.array(tfidf.get_feature_names())[sorted_indices][-20:]\n",
    "    best_grams.extend(top_features) \n",
    "\n",
    "# Extract n-grams from 'title2' column of TRAIN\n",
    "features2 = tfidf.fit_transform(TRAIN['title2'])\n",
    "\n",
    "# Extract the most correlated n-grams for each label using chi-squared test\n",
    "for lb in [0, 1, 2]:\n",
    "    chi2_scores = chi2(features2, labels == lb)\n",
    "    sorted_indices = np.argsort(chi2_scores[0])\n",
    "    top_features = np.array(tfidf.get_feature_names())[sorted_indices][-20:]\n",
    "    best_grams.extend(top_features)\n",
    "    \n",
    "# Print the list of most correlated n-grams for all labels\n",
    "print(best_grams, '\\n')"
   ]
  },
  {
   "cell_type": "code",
   "execution_count": 29,
   "metadata": {},
   "outputs": [
    {
     "data": {
      "text/plain": [
       "0.0"
      ]
     },
     "execution_count": 29,
     "metadata": {},
     "output_type": "execute_result"
    }
   ],
   "source": [
    "features[0,1]"
   ]
  },
  {
   "cell_type": "code",
   "execution_count": 30,
   "metadata": {
    "scrolled": true
   },
   "outputs": [
    {
     "data": {
      "text/plain": [
       "array([[<205127x46693 sparse matrix of type '<class 'numpy.int64'>'\n",
       "        \twith 2905630 stored elements in Compressed Sparse Row format>,\n",
       "        <205127x46693 sparse matrix of type '<class 'numpy.int64'>'\n",
       "        \twith 2933156 stored elements in Compressed Sparse Row format>]],\n",
       "      dtype=object)"
      ]
     },
     "execution_count": 30,
     "metadata": {},
     "output_type": "execute_result"
    }
   ],
   "source": [
    "np.c_[train_tl1, train_tl2]"
   ]
  },
  {
   "cell_type": "code",
   "execution_count": 31,
   "metadata": {},
   "outputs": [],
   "source": [
    "t = train_tl1[:]"
   ]
  },
  {
   "cell_type": "code",
   "execution_count": 32,
   "metadata": {},
   "outputs": [],
   "source": [
    "train_fe = TF_TRAIN.copy()\n",
    "test_fe = TF_TEST.copy()"
   ]
  },
  {
   "cell_type": "code",
   "execution_count": 33,
   "metadata": {},
   "outputs": [
    {
     "data": {
      "text/plain": [
       "<205127x93386 sparse matrix of type '<class 'numpy.float64'>'\n",
       "\twith 5838786 stored elements in Compressed Sparse Row format>"
      ]
     },
     "execution_count": 33,
     "metadata": {},
     "output_type": "execute_result"
    }
   ],
   "source": [
    "train_fe"
   ]
  },
  {
   "cell_type": "code",
   "execution_count": 34,
   "metadata": {},
   "outputs": [
    {
     "data": {
      "text/plain": [
       "<1x46693 sparse matrix of type '<class 'numpy.int64'>'\n",
       "\twith 16 stored elements in Compressed Sparse Row format>"
      ]
     },
     "execution_count": 34,
     "metadata": {},
     "output_type": "execute_result"
    }
   ],
   "source": [
    "validation_tl2[0]"
   ]
  },
  {
   "cell_type": "code",
   "execution_count": 35,
   "metadata": {},
   "outputs": [
    {
     "data": {
      "text/plain": [
       "0"
      ]
     },
     "execution_count": 35,
     "metadata": {},
     "output_type": "execute_result"
    }
   ],
   "source": [
    "validation_tl2[0, 39386]"
   ]
  },
  {
   "cell_type": "code",
   "execution_count": 36,
   "metadata": {},
   "outputs": [
    {
     "name": "stdout",
     "output_type": "stream",
     "text": [
      "(205127, 93386)\n",
      "(64110, 93386)\n",
      "205127\n",
      "64110\n",
      "(205127, 93387)\n",
      "(64110, 93387)\n"
     ]
    }
   ],
   "source": [
    "# similarity of sentences - cosine similarity\n",
    "cos_train = []\n",
    "cos_test = []\n",
    "for i in range(train_fe.shape[0]):\n",
    "    #cos.append(cosine_similarity(title1_train[i], title2_train[i])[0][0])\n",
    "    cos_train.append(1)\n",
    "for i in range(test_fe.shape[0]):\n",
    "    #cos.append(cosine_similarity(title1_test[i], title2_test[i])[0][0])\n",
    "    cos_test.append(1)\n",
    "# Check the dimensions of train_fe and test_fe\n",
    "print(train_fe.shape)\n",
    "print(test_fe.shape)\n",
    "print(len(cos_train))\n",
    "print(len(cos_test))\n",
    "\n",
    "train_fe_new = sparse.hstack([train_fe, sparse.csr_matrix(cos_train).T])\n",
    "test_fe_new = sparse.hstack([test_fe, sparse.csr_matrix(cos_test).T])\n",
    "\n",
    "# Check the dimensions of the new sparse matrices\n",
    "print(train_fe_new.shape)\n",
    "print(test_fe_new.shape)"
   ]
  }
 ],
 "metadata": {
  "kernelspec": {
   "display_name": "Python 3 (ipykernel)",
   "language": "python",
   "name": "python3"
  },
  "language_info": {
   "codemirror_mode": {
    "name": "ipython",
    "version": 3
   },
   "file_extension": ".py",
   "mimetype": "text/x-python",
   "name": "python",
   "nbconvert_exporter": "python",
   "pygments_lexer": "ipython3",
   "version": "3.9.13"
  }
 },
 "nbformat": 4,
 "nbformat_minor": 4
}
